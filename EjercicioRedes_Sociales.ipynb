{
  "nbformat": 4,
  "nbformat_minor": 0,
  "metadata": {
    "colab": {
      "name": "EjercicioRedes Sociales.ipynb",
      "provenance": [],
      "authorship_tag": "ABX9TyMnEywtNZ/9wwDYb8irq01h",
      "include_colab_link": true
    },
    "kernelspec": {
      "name": "python3",
      "display_name": "Python 3"
    },
    "language_info": {
      "name": "python"
    }
  },
  "cells": [
    {
      "cell_type": "markdown",
      "metadata": {
        "id": "view-in-github",
        "colab_type": "text"
      },
      "source": [
        "<a href=\"https://colab.research.google.com/github/salmachaveznavarro/EstrucDatos2023/blob/EstrucDatos2023/EjercicioRedes_Sociales.ipynb\" target=\"_parent\"><img src=\"https://colab.research.google.com/assets/colab-badge.svg\" alt=\"Open In Colab\"/></a>"
      ]
    },
    {
      "cell_type": "code",
      "execution_count": null,
      "metadata": {
        "colab": {
          "base_uri": "https://localhost:8080/"
        },
        "id": "gyT_QzHw3vBW",
        "outputId": "8f515a19-0b17-46b1-bac3-f4bbf29e35e9"
      },
      "outputs": [
        {
          "output_type": "stream",
          "name": "stdout",
          "text": [
            "Ejercicio Redes Sociales\n",
            "Chavez Navarro Salma\n",
            "No.cuenta 319194830\n",
            "Grupo 1310\n",
            "La diferencia entre los seguidores de Twitter de enero ( 62404 ) a junio ( 67496 ) es de -5092 .\n",
            "Ingrese los meses para calcular su diferencia entre visualizaciones de Youtube: \n",
            "Ingrese el mes 1 (en minúsculas): enero\n",
            "Ingrese el mes 2 (en minúsculas): mayo\n",
            "La diferencia entre enero y mayo es de -9579 .\n",
            "El promedio de crecimiento de Twitter de enero a junio es de 992.5 .\n",
            "El promedio de crecimiento de Facebook de enero a junio es de 4494.33 .\n"
          ]
        }
      ],
      "source": [
        "import csv\n",
        "print(\"Ejercicio Redes Sociales\\nChavez Navarro Salma\\nNo.cuenta 319194830\\nGrupo 1310\")\n",
        "separador= \",\"\n",
        "with open('presenciaredes (2).csv') as File:\n",
        "    next(File)\n",
        "    presenciaredes = []\n",
        "    for linea in File:\n",
        "        columnas = linea.split(separador)\n",
        "        redsocial = str(columnas[0])\n",
        "        concepto = str(columnas[1])\n",
        "        año= columnas[2]\n",
        "        enero= columnas[3]\n",
        "        febrero= columnas[4]\n",
        "        marzo= columnas[5]\n",
        "        abril = columnas[6]\n",
        "        mayo= columnas[7]\n",
        "        junio= columnas[8]\n",
        "        presenciaredes.append({\n",
        "            \"red social\": redsocial,\n",
        "            \"concepto\": concepto,\n",
        "            \"año\": año,\n",
        "            \"enero\": enero,\n",
        "            \"febrero\": febrero,\n",
        "            \"marzo\": marzo,\n",
        "            \"abril\": abril,\n",
        "            \"mayo\": mayo,\n",
        "            \"junio\": junio\n",
        "        })\n",
        "#Diferencia entre los seguidores de Twitter entre enero y junio:\n",
        "x = (int(presenciaredes[7][\"enero\"])) - (int(presenciaredes[7][\"junio\"]))\n",
        "print(\"La diferencia entre los seguidores de Twitter de enero (\", presenciaredes[7][\"enero\"],\") a junio (\",presenciaredes[7][\"junio\"],\") es de\", x,\".\")\n",
        "\n",
        "#Calcular la diferencia entre dos meses ingresados por teclado:\n",
        "print(\"Ingrese los meses para calcular su diferencia entre visualizaciones de Youtube: \")\n",
        "Mes1= str(input(\"Ingrese el mes 1 (en minúsculas): \"))\n",
        "Mes2= str(input(\"Ingrese el mes 2 (en minúsculas): \"))\n",
        "y= int(presenciaredes[15][Mes1]) - int(presenciaredes[15][Mes2])\n",
        "print(\"La diferencia entre\", Mes1, \"y\", Mes2,\"es de\",y,\".\")\n",
        "\n",
        "#Promedio de crecimiento de Twitter\n",
        "promedioTwitter = (int(presenciaredes[8][\"enero\"]) + int(presenciaredes[8][\"febrero\"]) + int(presenciaredes[8][\"marzo\"]) + int(presenciaredes[8][\"abril\"]) + int(presenciaredes[8][\"mayo\"]) + int(presenciaredes[8][\"junio\"]))/6\n",
        "print(\"El promedio de crecimiento de Twitter de enero a junio es de\", round(promedioTwitter,2),\".\")\n",
        "\n",
        "#Promedio de crecimiento de Facebook\n",
        "promedioFacebook = (int(presenciaredes[1][\"enero\"]) + int(presenciaredes[1][\"febrero\"]) + int(presenciaredes[1][\"marzo\"]) + int(presenciaredes[1][\"abril\"]) + int(presenciaredes[1][\"mayo\"]) + int(presenciaredes[1][\"junio\"]))/6\n",
        "print(\"El promedio de crecimiento de Facebook de enero a junio es de\", round(promedioFacebook,2),\".\")"
      ]
    }
  ]
}